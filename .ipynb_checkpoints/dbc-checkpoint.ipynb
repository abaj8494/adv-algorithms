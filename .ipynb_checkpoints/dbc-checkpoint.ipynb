{
 "cells": [
  {
   "cell_type": "markdown",
   "id": "5d97bd4b-cd65-4602-8152-bb8c772eb938",
   "metadata": {},
   "source": [
    "# Distributed Power Control\n",
    "This method helps to find a stable configuration for the Cellular power levels of Mobile Devices. It also applies more generally to **Signals** and **Interferences** too.\n",
    "\n",
    "The crux of the problem is as such: imagine that you are in a cocktail party and wish to speak to your friend.\n",
    "\n",
    "Your friend is right beside you, but you cannot hear them properly and so you increase your volume. Simultaneously though, all other pairs in the room have the same idea and also increase their volume.\n",
    "\n",
    "In turn, your friend cannot hear you either because your voice becomes drowned out by the increased voice of other people. All-in-all this process continues ad-infinitum until everyone is shouting."
   ]
  },
  {
   "cell_type": "markdown",
   "id": "908b2042-8a48-4b14-9b35-c023a7dc9518",
   "metadata": {},
   "source": [
    "## The Cocktail Party Problem\n",
    "The problem was outlined in the previous cell, but clearly this is not how a Cocktail Party usually transpires. Instead, everyone finds a suitable and polite volume at which to speak so that everyone may be heard despite conversations happening everywhere else. \n",
    "\n",
    "This is the crux of the Distributed Power Control Algorithm. And as can be expected, it is **iterative**."
   ]
  },
  {
   "cell_type": "markdown",
   "id": "a2d40490-748a-4f73-ba06-cae1265f0bde",
   "metadata": {},
   "source": [
    "## Mathematically\n",
    "We have $N$ transmitter / receiver pairs indexed by $i$. The transmitter is your phone a.k.a a Mobile Station, and the receiver is the tower, a.k.a Base Station.\n",
    "\n",
    "The transmit power of this link $i$ is $p_i$. Note that the transmitted power from any MS (Mobile Station) just equates to interference for another MS.\n",
    "\n",
    "We can create a Matrix $G$ to encode this transmitter signal / interference where\n",
    "\\begin{align}\n",
    "G_{ii} &= \\text{direct channel gain from transmitter i to receiver i}\\\\\n",
    "G_{ij} &= \\text{interference channels}\n",
    "\\end{align}\n",
    "\n",
    "Thus we can then encode:\n",
    "\n",
    "$$\n",
    "\\text{SIR}_i = \\frac{G_{ii}p_i}{\\sum_{j\\neq i}G_{ii}p_j +n_i}\n",
    "\\label{eq:sir}\n",
    "$$\n",
    "\n",
    "where the received power of the intended transmission at the receiver is $G_ii p_i$ (gain multiplied however much of there there is).\n",
    "and the interference is the sum of $G_ii p_j$ over all transmitters $j$ (other than the intended receiver $i$). also there is a noise $n_i$ in the receiver electronics for each receiver $i$.\n",
    "\n",
    "Then given we index $[t]$ as discrete _time_ slots, we know we need to maintain a minimum level of $\\text{SIR}_i \\geq \\gamma_i$ because otherwise the receiver wouldn't understand our message.\n",
    "\n",
    "We use this iterative algorithm:\n",
    "\n",
    "$$\n",
    "p_i[t+1] = \\frac{\\gamma_i}{\\text{SIR}_i [t]}p_i[t]\n",
    "$$\n",
    "\n",
    "Note that when eventually the $\\text{SIR}_i$ becomes equal to the desired $\\gamma_i$, the above algorithm equilibriates.\n",
    "\n",
    "### Optimisation\n",
    "\n",
    "The problem of finding an optimal configuration of powers can be found be solving:\n",
    "\n",
    "\n",
    "\\begin{align}\n",
    "&\\!\\min_{\\mathbf{p}}        &\\qquad& \\sum_i p_i\\\\\n",
    "&\\text{subject to} &      & \\text{SIR}_i(\\mathbf{p}) \\geq \\gamma_i, \\forall i\\\\\n",
    "\\label{eq:optim1}\n",
    "\\end{align}\n",
    "\n",
    "\n",
    "\n",
    "which if we plug $\\eqref{eq:sir}$ from above we get:\n",
    "\n",
    "$$\n",
    "\\begin{align}\n",
    "&\\!\\min_{\\mathbf{p}}        &\\qquad& \\sum_i p_i\\\\\n",
    "&\\text{subject to} &      & \\text{SIR}_i = \\frac{G_{ii}p_i}{\\sum_{j\\neq i}G_{ii}p_j +n_i}, \\forall i\\\\\n",
    "\\end{align}\n",
    "\\label{eq:optim2}\n",
    "$$"
   ]
  },
  {
   "cell_type": "markdown",
   "id": "d1da2759-700a-4681-b3e6-3c5a123c5d80",
   "metadata": {},
   "source": [
    "\\begin{equation*}\n",
    "\\mathbf{r} \\equiv \\begin{bmatrix}\n",
    "y \\\\\n",
    "\\theta\n",
    "\\end{bmatrix}\n",
    "\\label{eq:vector_ray} \\tag{1}\n",
    "\\end{equation*}\n",
    "\n",
    "Vector **r** is defined by equation $\\eqref{eq:vector_ray}$"
   ]
  },
  {
   "cell_type": "code",
   "execution_count": null,
   "id": "8b5c3903-8beb-490a-8e57-dc37cb72660c",
   "metadata": {},
   "outputs": [],
   "source": []
  }
 ],
 "metadata": {
  "kernelspec": {
   "display_name": "Python [conda env:metal]",
   "language": "python",
   "name": "conda-env-metal-py"
  },
  "language_info": {
   "codemirror_mode": {
    "name": "ipython",
    "version": 3
   },
   "file_extension": ".py",
   "mimetype": "text/x-python",
   "name": "python",
   "nbconvert_exporter": "python",
   "pygments_lexer": "ipython3",
   "version": "3.12.9"
  }
 },
 "nbformat": 4,
 "nbformat_minor": 5
}
